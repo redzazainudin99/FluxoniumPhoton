{
 "cells": [
  {
   "attachments": {},
   "cell_type": "markdown",
   "metadata": {},
   "source": [
    "# Continuous Wave (CW) measurements\n",
    "\n",
    "This notebook will serve as a simple guide to performing CW measurements to characterize the electron shelving fluxonium qubit. First, we import the dependencies for the notebook, to help with the data analysis."
   ]
  },
  {
   "cell_type": "code",
   "execution_count": 3,
   "metadata": {},
   "outputs": [],
   "source": [
    "from plottr.data.datadict_storage import datadict_from_hdf5\n",
    "from plottr.data.datadict_storage import DataDict, DDH5Writer\n",
    "from plottr.data.datadict_storage import search_datadict\n",
    "import numpy as np\n",
    "import matplotlib.pyplot as plt\n",
    "import os\n",
    "from pprint import pprint\n",
    "from tqdm import tqdm\n",
    "from datetime import datetime\n",
    "import pandas as pd\n",
    "import copy\n",
    "import itertools\n",
    "# import scqubits as scq\n",
    "import csv\n",
    "from sklearn.decomposition import PCA\n",
    "from scipy.signal import find_peaks\n",
    "from lmfit import Model\n",
    "from scipy.optimize import curve_fit"
   ]
  },
  {
   "attachments": {},
   "cell_type": "markdown",
   "metadata": {},
   "source": [
    "The following function is a search function. Throughout all of our experiments, we will be datataking by saving the data to a logs folder as ddr5 files. The following function helps search and put our data into dictionaries for easy visualization."
   ]
  },
  {
   "cell_type": "markdown",
   "metadata": {},
   "source": []
  },
  {
   "cell_type": "code",
   "execution_count": 4,
   "metadata": {},
   "outputs": [],
   "source": [
    "basedir = r\"D:/Redza/Logs\"\n",
    "\n",
    "#Fido function to obtain monitr files\n",
    "def Fido(datetime, name):          #Fido gets your raw _data for you!\n",
    "    foldername, datadict = search_datadict(basedir, datetime, name=name , newest = True, only_complete=False)\n",
    "    print(foldername)\n",
    "    print(datadict)\n",
    "    return foldername, datadict"
   ]
  },
  {
   "attachments": {},
   "cell_type": "markdown",
   "metadata": {},
   "source": [
    "## Characterizing the qubit spectrum\n",
    "\n",
    "In a shelving fluxonium qubit, the initial characterization step is to perform a bias sweep, going through different magnetic flux bias current values, while a VNA sweeps the frequency of a probe signal that is reflected off the filter port of the qubit. Skipping over some of the more mathematical details, what is obtained is a colormap which highlights the transition frequencies of the qubit at various bias values. \n",
    "\n",
    "After proper setup of the setup_cw.py file, run the cw_shelvingreadout_biasSweep.py file, and view it through plottr-monitr. If the results look good, we can proceed to fitting the spectrum to determine the qubit energies."
   ]
  },
  {
   "cell_type": "code",
   "execution_count": null,
   "metadata": {},
   "outputs": [],
   "source": []
  },
  {
   "attachments": {},
   "cell_type": "markdown",
   "metadata": {},
   "source": [
    "From these qubit energies, we then can perform a power sweep around the expected qubit shelving frequency. Run the cw_punchout.py file (it's not really a punchout experiment, but the style is close enough). A saturation peak should be visible in the results. There is a drop in the $S_{11}$ value around the frequency, which get less and less visible as the power of the probe drive is increased."
   ]
  },
  {
   "cell_type": "code",
   "execution_count": null,
   "metadata": {},
   "outputs": [],
   "source": []
  },
  {
   "attachments": {},
   "cell_type": "markdown",
   "metadata": {},
   "source": [
    "The rest of the qubit energies are obtained from the fitted spectrum, but we also may test for the actual transitions using a twotone experiment. To do this, we probe the qubit at the shelving frequency, with a suitable qubit power. Simultaneously, we have another local oscillator (LO) driving the qubit continuously through the drive port. The LO drive is swept in both frequency and power. \n",
    "\n",
    "Aside from confirming our qubit spectrum, this also serves to identify multi-photon transitions."
   ]
  },
  {
   "cell_type": "code",
   "execution_count": null,
   "metadata": {},
   "outputs": [],
   "source": []
  },
  {
   "attachments": {},
   "cell_type": "markdown",
   "metadata": {},
   "source": [
    "## Characterizing the JPA\n",
    "\n",
    "The JPA is characterized by an initial sweep of the bias into the JPA itself. We probe the qubit (line) with a probe signal from the VNA while sweeping the bias. This changes the resonance frequency of the JPA gradually, which in turn changes the gain profile of the JPA. We determine the JPA bias value which causes a resonance peak at the frequency we wish to amplify."
   ]
  },
  {
   "cell_type": "code",
   "execution_count": null,
   "metadata": {},
   "outputs": [],
   "source": []
  },
  {
   "attachments": {},
   "cell_type": "markdown",
   "metadata": {},
   "source": [
    "Next, after determining the optimal frequency of the JPA, we pump the JPA's pump line at double the resonance frequency using another LO. The power of the pump drive is swept, and we look at the gain of frequencies."
   ]
  },
  {
   "cell_type": "code",
   "execution_count": null,
   "metadata": {},
   "outputs": [],
   "source": []
  }
 ],
 "metadata": {
  "kernelspec": {
   "display_name": "redza.venv",
   "language": "python",
   "name": "python3"
  },
  "language_info": {
   "codemirror_mode": {
    "name": "ipython",
    "version": 3
   },
   "file_extension": ".py",
   "mimetype": "text/x-python",
   "name": "python",
   "nbconvert_exporter": "python",
   "pygments_lexer": "ipython3",
   "version": "3.9.7"
  },
  "orig_nbformat": 4,
  "vscode": {
   "interpreter": {
    "hash": "2c3dc095507d92e5d8f91a88e19b7e9d26b923a98d097a3ba42c946940e07c2c"
   }
  }
 },
 "nbformat": 4,
 "nbformat_minor": 2
}
